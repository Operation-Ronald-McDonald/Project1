{
 "cells": [
  {
   "cell_type": "code",
   "execution_count": 1,
   "id": "8aac6047",
   "metadata": {},
   "outputs": [],
   "source": [
    "# Dependencies and Setup\n",
    "import matplotlib.pyplot as plt\n",
    "import pandas as pd\n",
    "import scipy.stats as st\n",
    "import numpy as np\n",
    "from scipy.stats import linregress\n",
    "from us import states\n",
    "from census import Census\n",
    "# Import Census key\n",
    "from config import census_key\n",
    "import seaborn as sns\n",
    "\n",
    "# Census API Key\n",
    "c = Census(census_key, year=2018)"
   ]
  },
  {
   "cell_type": "markdown",
   "id": "3281ab58",
   "metadata": {},
   "source": [
    "#### Uploading MLB Beer Price data"
   ]
  },
  {
   "cell_type": "code",
   "execution_count": 2,
   "id": "90c3c96c",
   "metadata": {},
   "outputs": [
    {
     "name": "stdout",
     "output_type": "stream",
     "text": [
      "<class 'pandas.core.frame.DataFrame'>\n",
      "Int64Index: 29 entries, 0 to 29\n",
      "Data columns (total 13 columns):\n",
      " #   Column                        Non-Null Count  Dtype  \n",
      "---  ------                        --------------  -----  \n",
      " 0   Year                          29 non-null     int64  \n",
      " 1   Team                          29 non-null     object \n",
      " 2   Nickname                      29 non-null     object \n",
      " 3   City                          29 non-null     object \n",
      " 4   State                         29 non-null     object \n",
      " 5   State Abbreviation            29 non-null     object \n",
      " 6   Price                         29 non-null     float64\n",
      " 7   Size                          29 non-null     int64  \n",
      " 8   Price per Ounce               29 non-null     float64\n",
      " 9   Wins                          29 non-null     int64  \n",
      " 10  Losses                        29 non-null     int64  \n",
      " 11  Average # of drinks per game  29 non-null     float64\n",
      " 12  Average Spent per Game (USD)  29 non-null     object \n",
      "dtypes: float64(3), int64(4), object(6)\n",
      "memory usage: 3.2+ KB\n"
     ]
    }
   ],
   "source": [
    "# checking the data\n",
    "# read in cvs with cleaner MLB data\n",
    "mlb_Stateadded = \"MLB_Data_Stateadded.csv\"\n",
    "\n",
    "# Read the MLB data\n",
    "cleaner_MLB_df = pd.read_csv(mlb_Stateadded)\n",
    "cleaner_MLB_df = cleaner_MLB_df[cleaner_MLB_df['City']!='Toronto'] #dropping toronto as there wont be any income data\n",
    "cleaner_MLB_df.info()"
   ]
  },
  {
   "cell_type": "code",
   "execution_count": 5,
   "id": "920ce69d",
   "metadata": {},
   "outputs": [],
   "source": [
    "# # Cleaning data \n",
    "# # Filter for 2018 only\n",
    "# mlb_beer_price_df = mlb_beer_price_df[mlb_beer_price_df['Year']==2018]\n",
    "\n",
    "# # drop all instances of 'MLB Average' - it contains a Nan value\n",
    "# clean_mlb_beer_df = mlb_beer_price_df.dropna()\n",
    "# # clean_mlb_beer_df.head()"
   ]
  },
  {
   "cell_type": "markdown",
   "id": "6d87405f",
   "metadata": {},
   "source": [
    "#### Uploading Zip to City/State csv"
   ]
  },
  {
   "cell_type": "code",
   "execution_count": 3,
   "id": "47296e5e",
   "metadata": {},
   "outputs": [
    {
     "data": {
      "text/html": [
       "<div>\n",
       "<style scoped>\n",
       "    .dataframe tbody tr th:only-of-type {\n",
       "        vertical-align: middle;\n",
       "    }\n",
       "\n",
       "    .dataframe tbody tr th {\n",
       "        vertical-align: top;\n",
       "    }\n",
       "\n",
       "    .dataframe thead th {\n",
       "        text-align: right;\n",
       "    }\n",
       "</style>\n",
       "<table border=\"1\" class=\"dataframe\">\n",
       "  <thead>\n",
       "    <tr style=\"text-align: right;\">\n",
       "      <th></th>\n",
       "      <th>Zip Code</th>\n",
       "      <th>primary_city</th>\n",
       "      <th>state</th>\n",
       "      <th>country</th>\n",
       "      <th>county</th>\n",
       "      <th>lat</th>\n",
       "      <th>lng</th>\n",
       "    </tr>\n",
       "  </thead>\n",
       "  <tbody>\n",
       "    <tr>\n",
       "      <th>0</th>\n",
       "      <td>00501</td>\n",
       "      <td>Holtsville</td>\n",
       "      <td>NY</td>\n",
       "      <td>US</td>\n",
       "      <td>NaN</td>\n",
       "      <td>NaN</td>\n",
       "      <td>NaN</td>\n",
       "    </tr>\n",
       "    <tr>\n",
       "      <th>1</th>\n",
       "      <td>00544</td>\n",
       "      <td>Holtsville</td>\n",
       "      <td>NY</td>\n",
       "      <td>US</td>\n",
       "      <td>NaN</td>\n",
       "      <td>NaN</td>\n",
       "      <td>NaN</td>\n",
       "    </tr>\n",
       "    <tr>\n",
       "      <th>2</th>\n",
       "      <td>00601</td>\n",
       "      <td>Adjuntas</td>\n",
       "      <td>PR</td>\n",
       "      <td>US</td>\n",
       "      <td>Adjuntas</td>\n",
       "      <td>18.18004</td>\n",
       "      <td>-66.75218</td>\n",
       "    </tr>\n",
       "    <tr>\n",
       "      <th>3</th>\n",
       "      <td>00602</td>\n",
       "      <td>Aguada</td>\n",
       "      <td>PR</td>\n",
       "      <td>US</td>\n",
       "      <td>Aguada</td>\n",
       "      <td>18.36073</td>\n",
       "      <td>-67.17517</td>\n",
       "    </tr>\n",
       "    <tr>\n",
       "      <th>4</th>\n",
       "      <td>00603</td>\n",
       "      <td>Aguadilla</td>\n",
       "      <td>PR</td>\n",
       "      <td>US</td>\n",
       "      <td>Aguadilla</td>\n",
       "      <td>18.45439</td>\n",
       "      <td>-67.12202</td>\n",
       "    </tr>\n",
       "  </tbody>\n",
       "</table>\n",
       "</div>"
      ],
      "text/plain": [
       "  Zip Code primary_city state country     county       lat        lng\n",
       "0    00501   Holtsville    NY      US        NaN       NaN        NaN\n",
       "1    00544   Holtsville    NY      US        NaN       NaN        NaN\n",
       "2    00601     Adjuntas    PR      US   Adjuntas  18.18004  -66.75218\n",
       "3    00602       Aguada    PR      US     Aguada  18.36073  -67.17517\n",
       "4    00603    Aguadilla    PR      US  Aguadilla  18.45439  -67.12202"
      ]
     },
     "execution_count": 3,
     "metadata": {},
     "output_type": "execute_result"
    }
   ],
   "source": [
    "# path data files\n",
    "zip_city_state = \"Zip-Codes-to-City-County-State-2020.csv\"\n",
    "\n",
    "# # Read the zipcode data\n",
    "zip_city_state_df = pd.read_csv(zip_city_state,dtype=str)\n",
    "zip_city_state_df = zip_city_state_df.rename(columns={'zip': 'Zip Code'})\n",
    "zip_city_state_df.head()"
   ]
  },
  {
   "cell_type": "markdown",
   "id": "c2ca320c",
   "metadata": {},
   "source": [
    "#### Uploading Census data"
   ]
  },
  {
   "cell_type": "code",
   "execution_count": 4,
   "id": "3410b3fe",
   "metadata": {},
   "outputs": [
    {
     "data": {
      "text/html": [
       "<div>\n",
       "<style scoped>\n",
       "    .dataframe tbody tr th:only-of-type {\n",
       "        vertical-align: middle;\n",
       "    }\n",
       "\n",
       "    .dataframe tbody tr th {\n",
       "        vertical-align: top;\n",
       "    }\n",
       "\n",
       "    .dataframe thead th {\n",
       "        text-align: right;\n",
       "    }\n",
       "</style>\n",
       "<table border=\"1\" class=\"dataframe\">\n",
       "  <thead>\n",
       "    <tr style=\"text-align: right;\">\n",
       "      <th></th>\n",
       "      <th>Population</th>\n",
       "      <th>Median Income</th>\n",
       "      <th>state</th>\n",
       "      <th>Zip Code</th>\n",
       "    </tr>\n",
       "  </thead>\n",
       "  <tbody>\n",
       "    <tr>\n",
       "      <th>0</th>\n",
       "      <td>17242.0</td>\n",
       "      <td>10346.0</td>\n",
       "      <td>72</td>\n",
       "      <td>00601</td>\n",
       "    </tr>\n",
       "    <tr>\n",
       "      <th>1</th>\n",
       "      <td>38442.0</td>\n",
       "      <td>10407.0</td>\n",
       "      <td>72</td>\n",
       "      <td>00602</td>\n",
       "    </tr>\n",
       "    <tr>\n",
       "      <th>2</th>\n",
       "      <td>48814.0</td>\n",
       "      <td>12109.0</td>\n",
       "      <td>72</td>\n",
       "      <td>00603</td>\n",
       "    </tr>\n",
       "    <tr>\n",
       "      <th>3</th>\n",
       "      <td>6437.0</td>\n",
       "      <td>8899.0</td>\n",
       "      <td>72</td>\n",
       "      <td>00606</td>\n",
       "    </tr>\n",
       "    <tr>\n",
       "      <th>4</th>\n",
       "      <td>27073.0</td>\n",
       "      <td>12391.0</td>\n",
       "      <td>72</td>\n",
       "      <td>00610</td>\n",
       "    </tr>\n",
       "  </tbody>\n",
       "</table>\n",
       "</div>"
      ],
      "text/plain": [
       "   Population  Median Income state Zip Code\n",
       "0     17242.0        10346.0    72    00601\n",
       "1     38442.0        10407.0    72    00602\n",
       "2     48814.0        12109.0    72    00603\n",
       "3      6437.0         8899.0    72    00606\n",
       "4     27073.0        12391.0    72    00610"
      ]
     },
     "execution_count": 4,
     "metadata": {},
     "output_type": "execute_result"
    }
   ],
   "source": [
    "# US Median Household Income by Zip Code\n",
    "# Request to Census.gov\n",
    "census_data_zip = c.acs5.get((\"B01003_001E\", \"B21004_001E\"), {\"for\": \"zip code tabulation area:*\"})\n",
    "\n",
    "# Convert to DataFrame\n",
    "census_pd_zip = pd.DataFrame(census_data_zip)\n",
    "\n",
    "# Column Reordering\n",
    "census_pd_zip = census_pd_zip.rename(columns={\"B01003_001E\": \"Population\", \"B21004_001E\": \"Median Income\", \"zip code tabulation area\": \"Zip Code\"})\n",
    "\n",
    "census_pd_zip.head()"
   ]
  },
  {
   "cell_type": "markdown",
   "id": "d7fb7fc6",
   "metadata": {},
   "source": [
    "#### Merge (Left Join) Census data with Zip to state city "
   ]
  },
  {
   "cell_type": "code",
   "execution_count": 5,
   "id": "23454b25",
   "metadata": {},
   "outputs": [
    {
     "data": {
      "text/html": [
       "<div>\n",
       "<style scoped>\n",
       "    .dataframe tbody tr th:only-of-type {\n",
       "        vertical-align: middle;\n",
       "    }\n",
       "\n",
       "    .dataframe tbody tr th {\n",
       "        vertical-align: top;\n",
       "    }\n",
       "\n",
       "    .dataframe thead th {\n",
       "        text-align: right;\n",
       "    }\n",
       "</style>\n",
       "<table border=\"1\" class=\"dataframe\">\n",
       "  <thead>\n",
       "    <tr style=\"text-align: right;\">\n",
       "      <th></th>\n",
       "      <th>primary_city</th>\n",
       "      <th>state_y</th>\n",
       "      <th>Median Income</th>\n",
       "      <th>Population</th>\n",
       "    </tr>\n",
       "  </thead>\n",
       "  <tbody>\n",
       "    <tr>\n",
       "      <th>0</th>\n",
       "      <td>Adjuntas</td>\n",
       "      <td>PR</td>\n",
       "      <td>10346.0</td>\n",
       "      <td>17242.0</td>\n",
       "    </tr>\n",
       "    <tr>\n",
       "      <th>1</th>\n",
       "      <td>Aguada</td>\n",
       "      <td>PR</td>\n",
       "      <td>10407.0</td>\n",
       "      <td>38442.0</td>\n",
       "    </tr>\n",
       "    <tr>\n",
       "      <th>2</th>\n",
       "      <td>Aguadilla</td>\n",
       "      <td>PR</td>\n",
       "      <td>12109.0</td>\n",
       "      <td>48814.0</td>\n",
       "    </tr>\n",
       "    <tr>\n",
       "      <th>3</th>\n",
       "      <td>Maricao</td>\n",
       "      <td>PR</td>\n",
       "      <td>8899.0</td>\n",
       "      <td>6437.0</td>\n",
       "    </tr>\n",
       "    <tr>\n",
       "      <th>4</th>\n",
       "      <td>Anasco</td>\n",
       "      <td>PR</td>\n",
       "      <td>12391.0</td>\n",
       "      <td>27073.0</td>\n",
       "    </tr>\n",
       "  </tbody>\n",
       "</table>\n",
       "</div>"
      ],
      "text/plain": [
       "  primary_city state_y  Median Income  Population\n",
       "0     Adjuntas      PR        10346.0     17242.0\n",
       "1       Aguada      PR        10407.0     38442.0\n",
       "2    Aguadilla      PR        12109.0     48814.0\n",
       "3      Maricao      PR         8899.0      6437.0\n",
       "4       Anasco      PR        12391.0     27073.0"
      ]
     },
     "execution_count": 5,
     "metadata": {},
     "output_type": "execute_result"
    }
   ],
   "source": [
    "# left merge Census data with zip/city data\n",
    "result = pd.merge(census_pd_zip, zip_city_state_df, on=\"Zip Code\")\n",
    "\n",
    "# clean up results for what's needed. \n",
    "clean_cencus_df = result[['primary_city','state_y','Median Income','Population']].dropna()\n",
    "clean_cencus_df.head()"
   ]
  },
  {
   "cell_type": "code",
   "execution_count": 7,
   "id": "8a9424b8",
   "metadata": {},
   "outputs": [
    {
     "data": {
      "text/html": [
       "<div>\n",
       "<style scoped>\n",
       "    .dataframe tbody tr th:only-of-type {\n",
       "        vertical-align: middle;\n",
       "    }\n",
       "\n",
       "    .dataframe tbody tr th {\n",
       "        vertical-align: top;\n",
       "    }\n",
       "\n",
       "    .dataframe thead th {\n",
       "        text-align: right;\n",
       "    }\n",
       "</style>\n",
       "<table border=\"1\" class=\"dataframe\">\n",
       "  <thead>\n",
       "    <tr style=\"text-align: right;\">\n",
       "      <th></th>\n",
       "      <th>primary_city</th>\n",
       "      <th>state_y</th>\n",
       "      <th>Median Income</th>\n",
       "      <th>Population</th>\n",
       "    </tr>\n",
       "  </thead>\n",
       "  <tbody>\n",
       "    <tr>\n",
       "      <th>0</th>\n",
       "      <td>Adjuntas</td>\n",
       "      <td>PR</td>\n",
       "      <td>10346.0</td>\n",
       "      <td>17242.0</td>\n",
       "    </tr>\n",
       "    <tr>\n",
       "      <th>1</th>\n",
       "      <td>Aguada</td>\n",
       "      <td>PR</td>\n",
       "      <td>10407.0</td>\n",
       "      <td>38442.0</td>\n",
       "    </tr>\n",
       "    <tr>\n",
       "      <th>2</th>\n",
       "      <td>Aguadilla</td>\n",
       "      <td>PR</td>\n",
       "      <td>12109.0</td>\n",
       "      <td>48814.0</td>\n",
       "    </tr>\n",
       "    <tr>\n",
       "      <th>3</th>\n",
       "      <td>Maricao</td>\n",
       "      <td>PR</td>\n",
       "      <td>8899.0</td>\n",
       "      <td>6437.0</td>\n",
       "    </tr>\n",
       "    <tr>\n",
       "      <th>4</th>\n",
       "      <td>Anasco</td>\n",
       "      <td>PR</td>\n",
       "      <td>12391.0</td>\n",
       "      <td>27073.0</td>\n",
       "    </tr>\n",
       "  </tbody>\n",
       "</table>\n",
       "</div>"
      ],
      "text/plain": [
       "  primary_city state_y  Median Income  Population\n",
       "0     Adjuntas      PR        10346.0     17242.0\n",
       "1       Aguada      PR        10407.0     38442.0\n",
       "2    Aguadilla      PR        12109.0     48814.0\n",
       "3      Maricao      PR         8899.0      6437.0\n",
       "4       Anasco      PR        12391.0     27073.0"
      ]
     },
     "execution_count": 7,
     "metadata": {},
     "output_type": "execute_result"
    }
   ],
   "source": [
    "# keep cities with Median income greater than 0\n",
    "clean_cencus_df = clean_cencus_df[clean_cencus_df['Median Income']>0]\n",
    "clean_cencus_df.head()"
   ]
  },
  {
   "cell_type": "code",
   "execution_count": 8,
   "id": "5834d0cd",
   "metadata": {},
   "outputs": [
    {
     "data": {
      "text/html": [
       "<div>\n",
       "<style scoped>\n",
       "    .dataframe tbody tr th:only-of-type {\n",
       "        vertical-align: middle;\n",
       "    }\n",
       "\n",
       "    .dataframe tbody tr th {\n",
       "        vertical-align: top;\n",
       "    }\n",
       "\n",
       "    .dataframe thead th {\n",
       "        text-align: right;\n",
       "    }\n",
       "</style>\n",
       "<table border=\"1\" class=\"dataframe\">\n",
       "  <thead>\n",
       "    <tr style=\"text-align: right;\">\n",
       "      <th></th>\n",
       "      <th>state_y</th>\n",
       "      <th>primary_city</th>\n",
       "      <th>Median Income</th>\n",
       "    </tr>\n",
       "  </thead>\n",
       "  <tbody>\n",
       "    <tr>\n",
       "      <th>0</th>\n",
       "      <td>AK</td>\n",
       "      <td>Adak</td>\n",
       "      <td>27222.0</td>\n",
       "    </tr>\n",
       "    <tr>\n",
       "      <th>1</th>\n",
       "      <td>AK</td>\n",
       "      <td>Akiachak</td>\n",
       "      <td>11979.0</td>\n",
       "    </tr>\n",
       "    <tr>\n",
       "      <th>2</th>\n",
       "      <td>AK</td>\n",
       "      <td>Akiak</td>\n",
       "      <td>14931.0</td>\n",
       "    </tr>\n",
       "    <tr>\n",
       "      <th>3</th>\n",
       "      <td>AK</td>\n",
       "      <td>Akutan</td>\n",
       "      <td>28438.0</td>\n",
       "    </tr>\n",
       "    <tr>\n",
       "      <th>4</th>\n",
       "      <td>AK</td>\n",
       "      <td>Alakanuk</td>\n",
       "      <td>11389.0</td>\n",
       "    </tr>\n",
       "  </tbody>\n",
       "</table>\n",
       "</div>"
      ],
      "text/plain": [
       "  state_y primary_city  Median Income\n",
       "0      AK         Adak        27222.0\n",
       "1      AK     Akiachak        11979.0\n",
       "2      AK        Akiak        14931.0\n",
       "3      AK       Akutan        28438.0\n",
       "4      AK     Alakanuk        11389.0"
      ]
     },
     "execution_count": 8,
     "metadata": {},
     "output_type": "execute_result"
    }
   ],
   "source": [
    "# group median income by city and state \n",
    "income_by_CityState = clean_cencus_df.groupby(['state_y','primary_city']).mean()[['Median Income']].reset_index()\n",
    "income_by_CityState.head()"
   ]
  },
  {
   "cell_type": "code",
   "execution_count": 9,
   "id": "57b7143b",
   "metadata": {},
   "outputs": [
    {
     "data": {
      "text/html": [
       "<div>\n",
       "<style scoped>\n",
       "    .dataframe tbody tr th:only-of-type {\n",
       "        vertical-align: middle;\n",
       "    }\n",
       "\n",
       "    .dataframe tbody tr th {\n",
       "        vertical-align: top;\n",
       "    }\n",
       "\n",
       "    .dataframe thead th {\n",
       "        text-align: right;\n",
       "    }\n",
       "</style>\n",
       "<table border=\"1\" class=\"dataframe\">\n",
       "  <thead>\n",
       "    <tr style=\"text-align: right;\">\n",
       "      <th></th>\n",
       "      <th>state_y</th>\n",
       "      <th>primary_city</th>\n",
       "      <th>Population</th>\n",
       "    </tr>\n",
       "  </thead>\n",
       "  <tbody>\n",
       "    <tr>\n",
       "      <th>0</th>\n",
       "      <td>AK</td>\n",
       "      <td>Adak</td>\n",
       "      <td>203.0</td>\n",
       "    </tr>\n",
       "    <tr>\n",
       "      <th>1</th>\n",
       "      <td>AK</td>\n",
       "      <td>Akiachak</td>\n",
       "      <td>567.0</td>\n",
       "    </tr>\n",
       "    <tr>\n",
       "      <th>2</th>\n",
       "      <td>AK</td>\n",
       "      <td>Akiak</td>\n",
       "      <td>416.0</td>\n",
       "    </tr>\n",
       "    <tr>\n",
       "      <th>3</th>\n",
       "      <td>AK</td>\n",
       "      <td>Akutan</td>\n",
       "      <td>758.0</td>\n",
       "    </tr>\n",
       "    <tr>\n",
       "      <th>4</th>\n",
       "      <td>AK</td>\n",
       "      <td>Alakanuk</td>\n",
       "      <td>837.0</td>\n",
       "    </tr>\n",
       "  </tbody>\n",
       "</table>\n",
       "</div>"
      ],
      "text/plain": [
       "  state_y primary_city  Population\n",
       "0      AK         Adak       203.0\n",
       "1      AK     Akiachak       567.0\n",
       "2      AK        Akiak       416.0\n",
       "3      AK       Akutan       758.0\n",
       "4      AK     Alakanuk       837.0"
      ]
     },
     "execution_count": 9,
     "metadata": {},
     "output_type": "execute_result"
    }
   ],
   "source": [
    "# group population by city and state \n",
    "population_by_CityState = clean_cencus_df.groupby(['state_y','primary_city']).sum()[['Population']].reset_index()\n",
    "# population_by_CityState[population_by_CityState['primary_city'] =='Phoenix' ] # validating data (data quality control) \n",
    "population_by_CityState.head()"
   ]
  },
  {
   "cell_type": "code",
   "execution_count": 10,
   "id": "0e38c6ad",
   "metadata": {},
   "outputs": [
    {
     "name": "stdout",
     "output_type": "stream",
     "text": [
      "<class 'pandas.core.frame.DataFrame'>\n",
      "Int64Index: 26528 entries, 0 to 26527\n",
      "Data columns (total 4 columns):\n",
      " #   Column              Non-Null Count  Dtype  \n",
      "---  ------              --------------  -----  \n",
      " 0   State Abbreviation  26528 non-null  object \n",
      " 1   City                26528 non-null  object \n",
      " 2   Median Income       26528 non-null  float64\n",
      " 3   Population          26528 non-null  float64\n",
      "dtypes: float64(2), object(2)\n",
      "memory usage: 1.0+ MB\n"
     ]
    }
   ],
   "source": [
    "CityState_data = pd.merge(income_by_CityState,population_by_CityState,how='left', on = ['primary_city','state_y'])\n",
    "CityState_data = CityState_data[['state_y','primary_city','Median Income','Population']]\n",
    "CityState_data = CityState_data.rename(columns={'primary_city': 'City', 'state_y': 'State Abbreviation'})\n",
    "# CityState_data[CityState_data['primary_city'] == 'Phoenix'] # validating data (data quality control) \n",
    "CityState_data.info()"
   ]
  },
  {
   "cell_type": "markdown",
   "id": "74394833",
   "metadata": {},
   "source": [
    "#### Merge MLB data with Income Data"
   ]
  },
  {
   "cell_type": "code",
   "execution_count": 11,
   "id": "e0130e8f",
   "metadata": {},
   "outputs": [],
   "source": [
    "# Merge all data for final output - for anlaysis\n",
    "final_result = pd.merge(cleaner_MLB_df, CityState_data,how='left', on=['City','State Abbreviation'])\n",
    "# final_result\n",
    "\n",
    "# Create column win/loss ratio and add data based on 2018 win/loss ratio for each MLB team\n",
    "final_result['Win/Loss Ratio'] = final_result['Wins']/final_result['Losses']"
   ]
  },
  {
   "cell_type": "code",
   "execution_count": 12,
   "id": "b69e4e06",
   "metadata": {},
   "outputs": [
    {
     "data": {
      "text/html": [
       "<div>\n",
       "<style scoped>\n",
       "    .dataframe tbody tr th:only-of-type {\n",
       "        vertical-align: middle;\n",
       "    }\n",
       "\n",
       "    .dataframe tbody tr th {\n",
       "        vertical-align: top;\n",
       "    }\n",
       "\n",
       "    .dataframe thead th {\n",
       "        text-align: right;\n",
       "    }\n",
       "</style>\n",
       "<table border=\"1\" class=\"dataframe\">\n",
       "  <thead>\n",
       "    <tr style=\"text-align: right;\">\n",
       "      <th></th>\n",
       "      <th>Year</th>\n",
       "      <th>Team</th>\n",
       "      <th>Nickname</th>\n",
       "      <th>City</th>\n",
       "      <th>State</th>\n",
       "      <th>State Abbreviation</th>\n",
       "      <th>Price</th>\n",
       "      <th>Size</th>\n",
       "      <th>Price per Ounce</th>\n",
       "      <th>Wins</th>\n",
       "      <th>Losses</th>\n",
       "      <th>Average # of drinks per game</th>\n",
       "      <th>Average Spent per Game (USD)</th>\n",
       "      <th>Median Income</th>\n",
       "      <th>Population</th>\n",
       "      <th>Win/Loss Ratio</th>\n",
       "    </tr>\n",
       "  </thead>\n",
       "  <tbody>\n",
       "    <tr>\n",
       "      <th>0</th>\n",
       "      <td>2018</td>\n",
       "      <td>Arizona Diamondbacks</td>\n",
       "      <td>Diamondbacks</td>\n",
       "      <td>Phoenix</td>\n",
       "      <td>Arizona</td>\n",
       "      <td>AZ</td>\n",
       "      <td>4.0</td>\n",
       "      <td>14</td>\n",
       "      <td>0.29</td>\n",
       "      <td>82</td>\n",
       "      <td>80</td>\n",
       "      <td>3.4</td>\n",
       "      <td>$29.00</td>\n",
       "      <td>3.239557</td>\n",
       "      <td>145.1093</td>\n",
       "      <td>1.025000</td>\n",
       "    </tr>\n",
       "    <tr>\n",
       "      <th>1</th>\n",
       "      <td>2018</td>\n",
       "      <td>Atlanta Braves</td>\n",
       "      <td>Braves</td>\n",
       "      <td>Atlanta</td>\n",
       "      <td>Georgia</td>\n",
       "      <td>GA</td>\n",
       "      <td>5.0</td>\n",
       "      <td>12</td>\n",
       "      <td>0.42</td>\n",
       "      <td>90</td>\n",
       "      <td>72</td>\n",
       "      <td>4.0</td>\n",
       "      <td>$32.00</td>\n",
       "      <td>3.745645</td>\n",
       "      <td>98.8350</td>\n",
       "      <td>1.250000</td>\n",
       "    </tr>\n",
       "    <tr>\n",
       "      <th>2</th>\n",
       "      <td>2018</td>\n",
       "      <td>Baltimore Orioles</td>\n",
       "      <td>Orioles</td>\n",
       "      <td>Baltimore</td>\n",
       "      <td>Maryland</td>\n",
       "      <td>MD</td>\n",
       "      <td>4.0</td>\n",
       "      <td>12</td>\n",
       "      <td>0.33</td>\n",
       "      <td>47</td>\n",
       "      <td>115</td>\n",
       "      <td>3.5</td>\n",
       "      <td>$31.00</td>\n",
       "      <td>2.940768</td>\n",
       "      <td>63.0874</td>\n",
       "      <td>0.408696</td>\n",
       "    </tr>\n",
       "    <tr>\n",
       "      <th>3</th>\n",
       "      <td>2018</td>\n",
       "      <td>Boston Red Sox</td>\n",
       "      <td>Red Sox</td>\n",
       "      <td>Boston</td>\n",
       "      <td>Massachusetts</td>\n",
       "      <td>MA</td>\n",
       "      <td>8.0</td>\n",
       "      <td>12</td>\n",
       "      <td>0.67</td>\n",
       "      <td>95</td>\n",
       "      <td>68</td>\n",
       "      <td>3.2</td>\n",
       "      <td>$33.00</td>\n",
       "      <td>5.298913</td>\n",
       "      <td>23.5603</td>\n",
       "      <td>1.397059</td>\n",
       "    </tr>\n",
       "    <tr>\n",
       "      <th>4</th>\n",
       "      <td>2018</td>\n",
       "      <td>Chicago Cubs</td>\n",
       "      <td>Cubs</td>\n",
       "      <td>Chicago</td>\n",
       "      <td>Illinois</td>\n",
       "      <td>IL</td>\n",
       "      <td>9.0</td>\n",
       "      <td>20</td>\n",
       "      <td>0.45</td>\n",
       "      <td>108</td>\n",
       "      <td>54</td>\n",
       "      <td>3.4</td>\n",
       "      <td>$45.00</td>\n",
       "      <td>3.954054</td>\n",
       "      <td>270.2217</td>\n",
       "      <td>2.000000</td>\n",
       "    </tr>\n",
       "  </tbody>\n",
       "</table>\n",
       "</div>"
      ],
      "text/plain": [
       "   Year                  Team      Nickname       City          State  \\\n",
       "0  2018  Arizona Diamondbacks  Diamondbacks    Phoenix        Arizona   \n",
       "1  2018        Atlanta Braves        Braves    Atlanta        Georgia   \n",
       "2  2018     Baltimore Orioles       Orioles  Baltimore       Maryland   \n",
       "3  2018        Boston Red Sox       Red Sox     Boston  Massachusetts   \n",
       "4  2018          Chicago Cubs          Cubs    Chicago       Illinois   \n",
       "\n",
       "  State Abbreviation  Price  Size  Price per Ounce  Wins  Losses  \\\n",
       "0                 AZ    4.0    14             0.29    82      80   \n",
       "1                 GA    5.0    12             0.42    90      72   \n",
       "2                 MD    4.0    12             0.33    47     115   \n",
       "3                 MA    8.0    12             0.67    95      68   \n",
       "4                 IL    9.0    20             0.45   108      54   \n",
       "\n",
       "   Average # of drinks per game Average Spent per Game (USD)  Median Income  \\\n",
       "0                           3.4                       $29.00       3.239557   \n",
       "1                           4.0                       $32.00       3.745645   \n",
       "2                           3.5                       $31.00       2.940768   \n",
       "3                           3.2                       $33.00       5.298913   \n",
       "4                           3.4                       $45.00       3.954054   \n",
       "\n",
       "   Population  Win/Loss Ratio  \n",
       "0    145.1093        1.025000  \n",
       "1     98.8350        1.250000  \n",
       "2     63.0874        0.408696  \n",
       "3     23.5603        1.397059  \n",
       "4    270.2217        2.000000  "
      ]
     },
     "execution_count": 12,
     "metadata": {},
     "output_type": "execute_result"
    }
   ],
   "source": [
    "# format columns 'Median Income', 'Population' and 'Win/Loss Ratio'\n",
    "# final_result['Median Income'] = final_result.apply(lambda x: \"{:,.2f}\".format(x['Median Income']), axis=1)\n",
    "# final_result['Population'] = final_result.apply(lambda x: \"{:,.2f}\".format(x['Population']), axis=1)\n",
    "final_result['Median Income'] = final_result['Median Income']/10000\n",
    "final_result['Population'] = final_result['Population']/10000\n",
    "\n",
    "final_result.head()"
   ]
  },
  {
   "cell_type": "markdown",
   "id": "84de2c0c",
   "metadata": {},
   "source": [
    "#### Analysis - Income by Price per beer correlation"
   ]
  },
  {
   "cell_type": "markdown",
   "id": "0be29f0f",
   "metadata": {},
   "source": [
    "Create a scatter plot, add a regression line and calculate r-squared value. \n",
    "\n",
    "--------------------------\n",
    "But before that, lets see a visual representation of the data we'll be plotting. "
   ]
  },
  {
   "cell_type": "code",
   "execution_count": 13,
   "id": "c7cbae7d",
   "metadata": {},
   "outputs": [],
   "source": [
    "# a quick histogram of the data being analyzed fig, axes = plt.subplots(nrows=3,ncols=2)\n",
    "hist_ppo = final_result['Price per Ounce']\n",
    "hist_avg_drinks_game = final_result['Average # of drinks per game']\n",
    "hist_med_income = final_result['Median Income']\n",
    "hist_population = final_result['Population'] \n",
    "hist_record = final_result['Win/Loss Ratio']"
   ]
  },
  {
   "cell_type": "code",
   "execution_count": 14,
   "id": "ecb9f34e",
   "metadata": {},
   "outputs": [
    {
     "data": {
      "image/png": "[encoded data removed]",
      "text/plain": [
       "<Figure size 432x288 with 4 Axes>"
      ]
     },
     "metadata": {
      "needs_background": "light"
     },
     "output_type": "display_data"
    }
   ],
   "source": [
    "# plotting histograms\n",
    "fig, axes = plt.subplots(2, 2)\n",
    "\n",
    "hist_ppo.hist(grid=False, ax=axes[0,0]);\n",
    "hist_avg_drinks_game.hist(grid=False, ax=axes[0,1]);\n",
    "hist_record.hist(grid=False, ax=axes[1,0]);\n",
    "hist_med_income.hist(grid=False, ax=axes[1,1]);\n",
    "\n",
    "# plt.title"
   ]
  },
  {
   "cell_type": "code",
   "execution_count": 49,
   "id": "9a351ba7",
   "metadata": {},
   "outputs": [
    {
     "data": {
      "image/png": "[encoded data removed]",
      "text/plain": [
       "<Figure size 432x288 with 4 Axes>"
      ]
     },
     "metadata": {
      "needs_background": "light"
     },
     "output_type": "display_data"
    }
   ],
   "source": [
    "# plotting box and whiskper plot\n",
    "fig, axes = plt.subplots(2, 2,sharey=False,squeeze=False)\n",
    "\n",
    "ax = sns.boxplot(y='Price per Ounce' ,data=final_result,\n",
    "    ax=axes[0, 0],width=0.6)\n",
    "ax = sns.boxplot(y='Average # of drinks per game', data=final_result,\n",
    "    ax=axes[0, 1],width=0.6)\n",
    "ax = sns.boxplot(y='Median Income' ,data=final_result,\n",
    "    ax=axes[1, 0],width=0.6)\n",
    "ax = sns.boxplot(y='Win/Loss Ratio' , data=final_result,\n",
    "    ax=axes[1, 1],width=0.6)"
   ]
  },
  {
   "cell_type": "code",
   "execution_count": 50,
   "id": "158e534a",
   "metadata": {},
   "outputs": [
    {
     "name": "stdout",
     "output_type": "stream",
     "text": [
      "y = 0.04x + 0.28\n",
      "The r-valued is: 0.27351944841525866\n"
     ]
    },
    {
     "data": {
      "image/png": "[encoded data removed]",
      "text/plain": [
       "<Figure size 432x288 with 1 Axes>"
      ]
     },
     "metadata": {
      "needs_background": "light"
     },
     "output_type": "display_data"
    }
   ],
   "source": [
    "# Testing correlation between income and price of beer per oz\n",
    "\n",
    "ppo_income = final_result[['Median Income','Price per Ounce','Population']]\n",
    "\n",
    "# calculate linear regression\n",
    "data_regress = linregress(ppo_income.iloc[:,0],ppo_income.iloc[:,1])\n",
    "\n",
    "# unpack the regression \n",
    "(slope, intercept, rvalue, pvalue, stderr) = data_regress\n",
    "\n",
    "# using the regression formula (y = mx + b) pass the unpacked values into a variable\n",
    "regression_value = ppo_income.iloc[:,0]*slope + intercept\n",
    "equation = \"y = \" + str(round(slope,2)) + \"x + \" + str(round(intercept,2))\n",
    "print(equation)\n",
    "\n",
    "# scatter plot\n",
    "\n",
    "plt.scatter(ppo_income['Median Income'],ppo_income['Price per Ounce'],s=ppo_income['Population'],edgecolors='b') # flip this around - Also, add a 3rd parameter based on size of the population. (s = population)\n",
    "plt.plot(ppo_income.iloc[:,0],regression_value,color='green', linestyle='dashed')\n",
    "plt.annotate(equation,(2,0.3),fontsize=15,color=\"red\")\n",
    "\n",
    "# labels for plot\n",
    "plt.title(\"Price/oz by Median income house hold\")\n",
    "plt.xlabel(\"Median Income household ($10,000)\")\n",
    "plt.ylabel(\"Beer price/oz\")\n",
    "print(f\"The r-valued is: {rvalue**2}\")"
   ]
  },
  {
   "cell_type": "markdown",
   "id": "c0c07206",
   "metadata": {},
   "source": [
    "There appears to be a positive correlation between the median income house hold (city) and the price of beer (per oz); although not a very strong one. R-squared value tells us that about 27% of the data is centered around the mean. "
   ]
  },
  {
   "cell_type": "markdown",
   "id": "97504dde",
   "metadata": {},
   "source": [
    "#### Analysis - Record vs Beer consumption"
   ]
  },
  {
   "cell_type": "markdown",
   "id": "c31ff60b",
   "metadata": {},
   "source": [
    "Create a scatter plot, add a regression line and calculate r-squared value."
   ]
  },
  {
   "cell_type": "code",
   "execution_count": 51,
   "id": "f3bbf858",
   "metadata": {},
   "outputs": [
    {
     "name": "stdout",
     "output_type": "stream",
     "text": [
      "y = -0.31x + 3.59\n",
      "The r-valued is: 0.06923949811410202\n"
     ]
    },
    {
     "data": {
      "image/png": "[encoded data removed]",
      "text/plain": [
       "<Figure size 432x288 with 1 Axes>"
      ]
     },
     "metadata": {
      "needs_background": "light"
     },
     "output_type": "display_data"
    }
   ],
   "source": [
    "# Testing correlation between Win/Loss ratio and # of drinks per game\n",
    "record_beer = final_result[['Win/Loss Ratio','Average # of drinks per game']]\n",
    "\n",
    "# calculate linear regression\n",
    "data_regress = linregress(record_beer.iloc[:,0],record_beer.iloc[:,1])\n",
    "\n",
    "# unpack the regression \n",
    "(slope, intercept, rvalue, pvalue, stderr) = data_regress\n",
    "\n",
    "# using the regression formula (y = mx + b) pass the unpacked values into a variable\n",
    "regression_value = record_beer.iloc[:,0]*slope + intercept\n",
    "equation = \"y = \" + str(round(slope,2)) + \"x + \" + str(round(intercept,2))\n",
    "print(equation)\n",
    "\n",
    "# scatter plot\n",
    "\n",
    "plt.scatter(record_beer['Win/Loss Ratio'],record_beer['Average # of drinks per game'],s=ppo_income['Population'],edgecolors='b') # add a 3rd parameter - based on pregame?\n",
    "\n",
    "plt.plot(record_beer.iloc[:,0],regression_value,color='green', linestyle='dashed')\n",
    "plt.annotate(equation,(0.4,2.4),fontsize=15,color=\"red\")\n",
    "# labels for plot\n",
    "plt.title(\"Team record vs Beer consumption\")\n",
    "plt.ylabel(\"Average # of drinks per game\")\n",
    "plt.xlabel(\"Win/Loss Ratio\")\n",
    "print(f\"The r-valued is: {rvalue**2}\")"
   ]
  },
  {
   "cell_type": "markdown",
   "id": "d0beaccb",
   "metadata": {},
   "source": [
    "This scatter plot shows a negative correlation between the average price of drinks and a team's record. The correlation is NOT strong. "
   ]
  },
  {
   "cell_type": "code",
   "execution_count": null,
   "id": "5fe9a1d2",
   "metadata": {},
   "outputs": [],
   "source": []
  },
  {
   "cell_type": "code",
   "execution_count": null,
   "id": "92359c1a",
   "metadata": {},
   "outputs": [],
   "source": []
  }
 ],
 "metadata": {
  "kernelspec": {
   "display_name": "Python 3",
   "language": "python",
   "name": "python3"
  },
  "language_info": {
   "codemirror_mode": {
    "name": "ipython",
    "version": 3
   },
   "file_extension": ".py",
   "mimetype": "text/x-python",
   "name": "python",
   "nbconvert_exporter": "python",
   "pygments_lexer": "ipython3",
   "version": "3.6.10"
  }
 },
 "nbformat": 4,
 "nbformat_minor": 5
}
